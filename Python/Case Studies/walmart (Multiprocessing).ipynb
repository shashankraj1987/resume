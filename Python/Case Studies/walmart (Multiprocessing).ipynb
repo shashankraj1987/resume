{
 "cells": [
  {
   "cell_type": "markdown",
   "metadata": {},
   "source": [
    "## Data Imports "
   ]
  },
  {
   "cell_type": "code",
   "execution_count": 1,
   "metadata": {},
   "outputs": [],
   "source": [
    "import pandas as pd\n",
    "import numpy as np\n",
    "from scipy import stats\n",
    "from multiprocessing import Pool"
   ]
  },
  {
   "cell_type": "markdown",
   "metadata": {},
   "source": [
    "## Setup the Global Variables"
   ]
  },
  {
   "cell_type": "code",
   "execution_count": 2,
   "metadata": {},
   "outputs": [],
   "source": [
    "num_processes = 3\n",
    "alpha = 0.95\n",
    "sample_size = 1000"
   ]
  },
  {
   "cell_type": "markdown",
   "metadata": {},
   "source": [
    "## Load the Dataset"
   ]
  },
  {
   "cell_type": "code",
   "execution_count": 3,
   "metadata": {},
   "outputs": [],
   "source": [
    "# Load the dataset\n",
    "def load_data(file_path):\n",
    "    return pd.read_csv(file_path)"
   ]
  },
  {
   "cell_type": "markdown",
   "metadata": {},
   "source": [
    "## Function to Calculate the Confidence Interval"
   ]
  },
  {
   "cell_type": "code",
   "execution_count": 4,
   "metadata": {},
   "outputs": [],
   "source": [
    "# Function to calculate confidence intervals\n",
    "\n",
    "def calculate_ci(group, data):\n",
    "    mean = data['Purchase'].mean()\n",
    "    std_error = stats.sem(data['Purchase'])\n",
    "    z_score = stats.norm.ppf(1 - alpha / 2)\n",
    "    margin_of_error = z_score * std_error\n",
    "    lower_bound = mean - margin_of_error\n",
    "    upper_bound = mean + margin_of_error\n",
    "    return group, mean, (lower_bound, upper_bound)"
   ]
  },
  {
   "cell_type": "markdown",
   "metadata": {},
   "source": [
    "## Function to Map Age Groups to Numeric End-Points"
   ]
  },
  {
   "cell_type": "code",
   "execution_count": 5,
   "metadata": {},
   "outputs": [],
   "source": [
    "# Custom function to map age group labels to numeric midpoints\n",
    "def map_age_to_midpoint(age_group):\n",
    "    age_midpoints = {'0-17': 8.5, '18-25': 21.5, '26-35': 30.5, '36-50': 43, '51+': 60}\n",
    "    return age_midpoints.get(age_group)"
   ]
  },
  {
   "cell_type": "markdown",
   "metadata": {},
   "source": [
    "## Data Cleaning and Summary Statistics"
   ]
  },
  {
   "cell_type": "code",
   "execution_count": 6,
   "metadata": {},
   "outputs": [],
   "source": [
    "# Load the dataset using multiprocessing\n",
    "with Pool(num_processes) as pool:\n",
    "    df = pd.concat(pool.map(load_data, ['walmart_data.csv'] * num_processes))\n"
   ]
  },
  {
   "cell_type": "code",
   "execution_count": null,
   "metadata": {},
   "outputs": [
    {
     "name": "stdout",
     "output_type": "stream",
     "text": [
      "\n",
      "Average Expenses by Gender:\n",
      "Average Female Expenses: 8734.5658\n",
      "Average Male Expenses: 9437.526\n"
     ]
    }
   ],
   "source": [
    "# Calculate average spending per transaction for females and males\n",
    "\n",
    "avg_female_expense = np.round(df[df['Gender'] == 'F']['Purchase'].mean(),4)\n",
    "avg_male_expense = np.round(df[df['Gender'] == 'M']['Purchase'].mean(),4)\n",
    "\n",
    "print(\"\\nAverage Expenses by Gender:\")\n",
    "print(f\"Average Female Expenses: {avg_female_expense}\")\n",
    "print(f\"Average Male Expenses: {avg_male_expense}\")\n"
   ]
  },
  {
   "cell_type": "code",
   "execution_count": null,
   "metadata": {},
   "outputs": [
    {
     "name": "stdout",
     "output_type": "stream",
     "text": [
      "\n",
      "Average Expenses by Gender:\n",
      "Average Married Expenses: 9261.1746\n",
      "Average Unmarried Expenses: 9265.9076\n"
     ]
    }
   ],
   "source": [
    "# Calculate average spending per transaction for Married and Unmarried\n",
    "\n",
    "avg_married_expense = np.round(df[df['Marital_Status'] == 1]['Purchase'].mean(),4)\n",
    "avg_unmarried_expense = np.round(df[df['Marital_Status'] == 0]['Purchase'].mean(),4)\n",
    "\n",
    "print(\"\\nAverage Expenses by Gender:\")\n",
    "print(f\"Average Married Expenses: {avg_married_expense}\")\n",
    "print(f\"Average Unmarried Expenses: {avg_unmarried_expense}\")"
   ]
  },
  {
   "cell_type": "markdown",
   "metadata": {},
   "source": [
    "Note:\n",
    "--------\n",
    "\n",
    "\n",
    "To determine which group (men or women / Married or Unmarried etc. ) is spending more, we can perform a post-hoc analysis or calculate the confidence intervals for the mean purchase amounts for these groups. \n",
    "\n",
    "The group with the higher mean in its confidence interval is spending more."
   ]
  },
  {
   "cell_type": "markdown",
   "metadata": {},
   "source": [
    "## Which Feature/ Category is most responsible for the maximum expenditure. "
   ]
  },
  {
   "cell_type": "code",
   "execution_count": null,
   "metadata": {},
   "outputs": [
    {
     "name": "stdout",
     "output_type": "stream",
     "text": [
      "Spending Behavior by Groups:\n",
      "Gender:\n",
      "  Average: 9068.06\n",
      "  5.00% CI: (9061.01, 9075.11)\n",
      "Marital_Status:\n",
      "  Average: 9056.57\n",
      "  5.00% CI: (9049.51, 9063.63)\n",
      "Age_Group:\n",
      "  Average: 9154.63\n",
      "  5.00% CI: (9148.78, 9160.49)\n",
      "\n",
      "The group with the highest spending is Age_Group.\n"
     ]
    }
   ],
   "source": [
    "# Create a new column 'Age_Group' based on the age midpoints\n",
    "df['Age_Group'] = df['Age'].apply(map_age_to_midpoint)\n",
    "\n",
    "# Define groups for parallel processing\n",
    "groups = {\n",
    "    'Gender': df.groupby('Gender'),\n",
    "    'Marital_Status': df.groupby('Marital_Status'),\n",
    "    'Age_Group': df.groupby('Age_Group')\n",
    "}\n",
    "\n",
    "# Use multiprocessing to calculate confidence intervals concurrently\n",
    "with Pool(num_processes) as pool:\n",
    "        results = pool.starmap(calculate_ci, [(group, data.sample(n=sample_size)) for group, data in groups.items()])\n",
    "\n",
    "\n",
    "# Determine which group has the highest spending based on the upper bound of confidence intervals\n",
    "max_spending_group = max(results, key=lambda x: x[2][1])\n",
    "\n",
    "# Print the results\n",
    "print(\"Spending Behavior by Groups:\")\n",
    "for group, mean, ci in results:\n",
    "    print(f\"{group}:\")\n",
    "    print(f\"  Average: {mean:.2f}\")\n",
    "    print(f\"  {100*(1-alpha):.2f}% CI: ({ci[0]:.2f}, {ci[1]:.2f})\")\n",
    "\n",
    "print(f\"\\nThe group with the highest spending is {max_spending_group[0]}.\")\n"
   ]
  },
  {
   "cell_type": "markdown",
   "metadata": {},
   "source": [
    "## Which Sub-Group is responsible for the maximum expenditure?"
   ]
  },
  {
   "cell_type": "code",
   "execution_count": null,
   "metadata": {},
   "outputs": [
    {
     "name": "stdout",
     "output_type": "stream",
     "text": [
      "Spending Behavior by Sub-Groups:\n",
      "Gender:\n",
      "  Sub-Group with Highest Spending: M\n",
      "  Average: 9484.95\n",
      "  5.00% CI: (9475.14, 9494.76)\n",
      "Marital_Status:\n",
      "  Sub-Group with Highest Spending: 1\n",
      "  Average: 9378.46\n",
      "  5.00% CI: (9368.36, 9388.57)\n",
      "Age_Group:\n",
      "  Sub-Group with Highest Spending: 30.5\n",
      "  Average: 9021.11\n",
      "  5.00% CI: (9011.28, 9030.95)\n"
     ]
    }
   ],
   "source": [
    "# Number of processes for multiprocessing\n",
    "num_processes = 3\n",
    "\n",
    "# Load the dataset using multiprocessing\n",
    "with Pool(num_processes) as pool:\n",
    "    df = pd.concat(pool.map(load_data, ['walmart_data.csv'] * num_processes))\n",
    "\n",
    "# Create a new column 'Age_Group' based on the age midpoints\n",
    "df['Age_Group'] = df['Age'].apply(map_age_to_midpoint)\n",
    "\n",
    "# Define groups for parallel processing\n",
    "groups = {\n",
    "    'Gender': df,\n",
    "    'Marital_Status': df,\n",
    "    'Age_Group': df\n",
    "}\n",
    "\n",
    "# Initialize dictionaries to store sub-group results\n",
    "sub_group_results = {}\n",
    "\n",
    "# Use multiprocessing to calculate confidence intervals concurrently for each group and sub-group\n",
    "with Pool(num_processes) as pool:\n",
    "    for group, data in groups.items():\n",
    "        sub_groups = data.groupby(group)\n",
    "        sub_group_results[group] = pool.starmap(calculate_ci, [(sub_group, sub_data.sample(n=sample_size)) for sub_group, sub_data in sub_groups])\n",
    "\n",
    "# Determine which sub-group is spending more within each category\n",
    "max_spending_sub_groups = {}\n",
    "for group, sub_group_results_list in sub_group_results.items():\n",
    "    max_spending_sub_group = max(sub_group_results_list, key=lambda x: x[2][1])\n",
    "    max_spending_sub_groups[group] = max_spending_sub_group\n",
    "\n",
    "# Print the results\n",
    "print(\"Spending Behavior by Sub-Groups:\")\n",
    "for group, max_spending_sub_group in max_spending_sub_groups.items():\n",
    "    print(f\"{group}:\")\n",
    "    print(f\"  Sub-Group with Highest Spending: {max_spending_sub_group[0]}\")\n",
    "    print(f\"  Average: {max_spending_sub_group[1]:.2f}\")\n",
    "    print(f\"  {100*(1-alpha):.2f}% CI: ({max_spending_sub_group[2][0]:.2f}, {max_spending_sub_group[2][1]:.2f})\")"
   ]
  }
 ],
 "metadata": {
  "kernelspec": {
   "display_name": "base",
   "language": "python",
   "name": "python3"
  },
  "language_info": {
   "codemirror_mode": {
    "name": "ipython",
    "version": 3
   },
   "file_extension": ".py",
   "mimetype": "text/x-python",
   "name": "python",
   "nbconvert_exporter": "python",
   "pygments_lexer": "ipython3",
   "version": "3.11.4"
  },
  "orig_nbformat": 4
 },
 "nbformat": 4,
 "nbformat_minor": 2
}
