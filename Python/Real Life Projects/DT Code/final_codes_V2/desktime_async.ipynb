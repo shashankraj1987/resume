{
 "cells": [
  {
   "cell_type": "code",
   "execution_count": 1,
   "metadata": {},
   "outputs": [],
   "source": [
    "# Setup: Imports\n",
    "\n",
    "import requests\n",
    "import pandas as pd\n",
    "import numpy as np\n",
    "import json\n",
    "from datetime import datetime, timedelta\n",
    "import os\n",
    "import asyncio\n",
    "import time\n",
    "import aiohttp\n",
    "import async_timeout\n",
    "\n",
    "from asyncio import _get_running_loop as _get_running_loop"
   ]
  },
  {
   "cell_type": "code",
   "execution_count": 2,
   "metadata": {},
   "outputs": [],
   "source": [
    "# Progress Bar\n",
    "\n",
    "\n",
    "def progress_bar(progress, total, obj):\n",
    "    percent = 100*(float(progress)/float(total))\n",
    "    bar = '█'*int(percent)+'-'*(100-int(percent))\n",
    "    print(f\"\\r|{bar}| {percent: .2f}% Processing : {obj}\", end='\\r')"
   ]
  },
  {
   "cell_type": "code",
   "execution_count": 3,
   "metadata": {},
   "outputs": [],
   "source": [
    "# Setup: Get API Keys and Connection.\n",
    "\n",
    "\n",
    "def read_creds(cred_loc, main=1, backup=0):\n",
    "    if os.path.exists(cred_loc):\n",
    "        f = open(cred_loc)\n",
    "        creds = json.load(f)\n",
    "        f.close()\n",
    "\n",
    "        api_key = creds[\"nagmani.b@exalogic.co\"]\n",
    "\n",
    "        emp_url = creds[\"emp_url\"]\n",
    "        app_url = creds[\"app_url\"]\n",
    "        print(\"Received the Credentials.\")\n",
    "        return api_key, emp_url, app_url\n",
    "    else:\n",
    "        print(\"File not found\")\n",
    "        return []"
   ]
  },
  {
   "cell_type": "code",
   "execution_count": 4,
   "metadata": {},
   "outputs": [],
   "source": [
    "# Extract: Extract the Data from Desktime app.\n",
    "\n",
    "\n",
    "def get_dt_data(url: str, api: str, dt: str, emp=\"\"):\n",
    "    if emp:\n",
    "        try:\n",
    "            r = requests.get(\n",
    "                url, params={\"apiKey\": api, \"date\": dt, \"id\": emp})\n",
    "        except Exception as e:\n",
    "            print(e)\n",
    "            return \"\"\n",
    "        else:\n",
    "            # print(\"Desktime Connection Successful.\")\n",
    "            return r.json()\n",
    "    else:\n",
    "        try:\n",
    "            # print(\"Desktime Connection Successful.\")\n",
    "            r = requests.get(url, params={\"apiKey\": api, \"date\": dt})\n",
    "        except Exception as e:\n",
    "            print(e)\n",
    "            return \"\"\n",
    "        else:\n",
    "            return r.json()"
   ]
  },
  {
   "cell_type": "code",
   "execution_count": null,
   "metadata": {},
   "outputs": [],
   "source": []
  },
  {
   "cell_type": "code",
   "execution_count": 5,
   "metadata": {},
   "outputs": [],
   "source": [
    "# Transform: Final DT API Processing Function.\n",
    "\n",
    "\n",
    "def process_dt_api(dt, resp, df_act_emp):\n",
    "    emp_logged = []\n",
    "    today = resp['employees'][dt]\n",
    "    for emp in today:\n",
    "        emp_logged.append(emp)\n",
    "\n",
    "    remove_cols = ['profileUrl', 'activeProject', 'notes', 'afterWorkTime', 'beforeWorkTime',\n",
    "                   'work_starts', 'work_ends', 'arrived', 'left', 'late', 'isOnline']\n",
    "    cols = []\n",
    "\n",
    "    for x in resp['employees'][dt][emp_logged[0]]:\n",
    "        if not remove_cols.__contains__(x):\n",
    "            cols.append(x)\n",
    "    dict1 = {}\n",
    "    for col in cols:\n",
    "        dict1[col] = []\n",
    "\n",
    "    for emp in emp_logged:\n",
    "        tmp = resp['employees'][dt][emp]\n",
    "        dict1['id'].append(str(tmp['id']))\n",
    "        dict1['name'].append(tmp['name'])\n",
    "        dict1['email'].append(tmp['email'])\n",
    "        dict1['groupId'].append(tmp[\"groupId\"])\n",
    "        dict1['group'].append(tmp[\"group\"])\n",
    "        dict1['onlineTime'].append(tmp[\"onlineTime\"])\n",
    "        dict1['offlineTime'].append(tmp[\"offlineTime\"])\n",
    "        dict1['desktimeTime'].append(tmp[\"desktimeTime\"])\n",
    "        dict1['atWorkTime'].append(tmp[\"atWorkTime\"])\n",
    "        dict1['productiveTime'].append(tmp[\"productiveTime\"])\n",
    "        dict1['productivity'].append(tmp[\"productivity\"])\n",
    "        dict1['efficiency'].append(tmp[\"efficiency\"])\n",
    "\n",
    "    df1 = pd.DataFrame(dict1)\n",
    "    df1.reset_index(inplace=True, drop=True)\n",
    "\n",
    "    df_merged = df_act_emp.merge(df1,\n",
    "                                 left_on=\"Email\",\n",
    "                                 right_on=\"email\",\n",
    "                                 suffixes=(\"_left\", \"_right\"),\n",
    "                                 how=\"left\")\n",
    "    df_merged[\"date\"] = dt\n",
    "    df_merged[\"count\"] = 1\n",
    "    print(\"Complete Data converted to a Dataframe.\")\n",
    "    return df_merged\n",
    "\n",
    "\n",
    "def update_exist_emp(exist_emp_df, df_dt_usage):\n",
    "    df_tmp = df_dt_usage[[\"Emp ID\", \"Reporting Manager\",\n",
    "                          \"Department\", \"Division\", \"id\"]]\n",
    "    df_merged = exist_emp_df.merge(\n",
    "        df_tmp,\n",
    "        left_on=\"Emp ID\",\n",
    "        right_on=\"Emp ID\",\n",
    "        how=\"left\",\n",
    "        suffixes=(\"_existing\", \"_new\")\n",
    "    )\n",
    "\n",
    "    return df_merged"
   ]
  },
  {
   "cell_type": "code",
   "execution_count": 6,
   "metadata": {},
   "outputs": [],
   "source": [
    "# Transform2: Get App Usage from Desktime per employee.\n",
    "\n",
    "\n",
    "df_app_list = pd.DataFrame(columns=[\n",
    "                           'Date', 'Name', 'App_Name', 'App_Type', 'App_Tag', 'Time_Mins', 'Category', 'Productive'])\n",
    "\n",
    "\n",
    "def get_meeting_time(x):\n",
    "    if x.__contains__('teams') | x.__contains__('CALENDAR') | x.__contains__('Teams'):\n",
    "        return \"Teams\"\n",
    "    else:\n",
    "        return \"Work\"\n",
    "\n",
    "\n",
    "def get_app_usage(emp_id, emp_resp, dt):\n",
    "    dict_usage = {\"Date\": [], \"Desktime_ID\": [], \"emp_app_name\": [], \"emp_time_mins\": [\n",
    "    ], \"emp_time_secs\": [], \"emp_category\": [], \"emp_productive\": []}\n",
    "    # print(emp_resp)\n",
    "    app_usage = emp_resp[\"apps\"]['1']\n",
    "\n",
    "    for app in app_usage:\n",
    "        t_spent_mins = np.round(\n",
    "            int(emp_resp[\"apps\"][\"1\"][app][\"duration\"])/60, 2)\n",
    "        t_spent_secs = int(emp_resp[\"apps\"][\"1\"][app][\"duration\"])\n",
    "        app_name = emp_resp[\"apps\"][\"1\"][app][\"app\"]\n",
    "        app_type = emp_resp[\"apps\"][\"1\"][app][\"type\"]\n",
    "        dict_usage[\"Date\"].append(dt)\n",
    "        dict_usage[\"Desktime_ID\"].append(emp_id)\n",
    "        dict_usage[\"emp_app_name\"].append(app_name)\n",
    "        dict_usage[\"emp_time_mins\"].append(t_spent_mins)\n",
    "        dict_usage[\"emp_time_secs\"].append(t_spent_secs)\n",
    "        dict_usage[\"emp_category\"].append(get_meeting_time(app_name))\n",
    "        dict_usage[\"emp_productive\"].append(\"Productive\")\n",
    "\n",
    "    return pd.DataFrame(dict_usage)"
   ]
  },
  {
   "cell_type": "markdown",
   "metadata": {},
   "source": [
    "## New Functions "
   ]
  },
  {
   "cell_type": "code",
   "execution_count": 7,
   "metadata": {},
   "outputs": [],
   "source": [
    "loop = asyncio.get_event_loop()"
   ]
  },
  {
   "cell_type": "code",
   "execution_count": 8,
   "metadata": {},
   "outputs": [],
   "source": [
    "strt_dt = input(\"Enter Start Date in YYYY-MM-DD format :\")"
   ]
  },
  {
   "cell_type": "code",
   "execution_count": 9,
   "metadata": {},
   "outputs": [],
   "source": [
    "# Get all Employee Details\n",
    "# ===========================================================================================\n",
    "\n",
    "async def dt_fetch_all(session, url, api, dt,emp):\n",
    "  async with async_timeout.timeout(15):\n",
    "    async with session.get(url,params={\"apiKey\": api, \"date\": dt}) as response:\n",
    "      return await response.json()\n",
    "  \n",
    "async def dt_fetch_all(loop,api,dt,emp, *urls):\n",
    "  tasks = []\n",
    "  async with aiohttp.ClientSession(loop=loop) as session:\n",
    "    for url in urls:\n",
    "      tasks.append(dt_fetch_all(session, url, api,dt,emp))\n",
    "    grouped_tasks = asyncio.gather(*tasks)\n",
    "    return await grouped_tasks\n"
   ]
  },
  {
   "cell_type": "code",
   "execution_count": 10,
   "metadata": {},
   "outputs": [],
   "source": [
    "# Get Individual Employees' Apps\n",
    "# ===========================================================================================\n",
    "\n",
    "async def dt_fetch_apps(session, url, api, dt,emp):\n",
    "  async with async_timeout.timeout(15):\n",
    "    async with session.get(url,params={\"apiKey\": api, \"date\": dt,\"id\":emp}) as response:\n",
    "      return await response.json()\n",
    "  \n",
    "async def dt_fetch_emps(loop,api,dt,emp, *urls):\n",
    "  tasks = []\n",
    "  async with aiohttp.ClientSession(loop=loop) as session:\n",
    "    for url in urls:\n",
    "      tasks.append(dt_fetch_apps(session, url, api,dt,emp))\n",
    "    grouped_tasks = asyncio.gather(*tasks)\n",
    "    return await grouped_tasks\n"
   ]
  },
  {
   "cell_type": "code",
   "execution_count": 11,
   "metadata": {},
   "outputs": [
    {
     "name": "stdout",
     "output_type": "stream",
     "text": [
      "Received the Credentials.\n"
     ]
    },
    {
     "ename": "RuntimeError",
     "evalue": "This event loop is already running",
     "output_type": "error",
     "traceback": [
      "\u001b[1;31m---------------------------------------------------------------------------\u001b[0m",
      "\u001b[1;31mRuntimeError\u001b[0m                              Traceback (most recent call last)",
      "\u001b[1;32mc:\\Users\\ShashankRaj\\OneDrive - Exalogic Consulting\\Documents\\Proj Mgmt\\Jira_Clockwork\\final_codes_V2\\desktime_async.ipynb Cell 13\u001b[0m line \u001b[0;36m2\n\u001b[0;32m     <a href='vscode-notebook-cell:/c%3A/Users/ShashankRaj/OneDrive%20-%20Exalogic%20Consulting/Documents/Proj%20Mgmt/Jira_Clockwork/final_codes_V2/desktime_async.ipynb#X22sZmlsZQ%3D%3D?line=20'>21</a>\u001b[0m api_key, all_emps, app_url \u001b[39m=\u001b[39m read_creds(cred_file, main\u001b[39m=\u001b[39m\u001b[39m1\u001b[39m)\n\u001b[0;32m     <a href='vscode-notebook-cell:/c%3A/Users/ShashankRaj/OneDrive%20-%20Exalogic%20Consulting/Documents/Proj%20Mgmt/Jira_Clockwork/final_codes_V2/desktime_async.ipynb#X22sZmlsZQ%3D%3D?line=21'>22</a>\u001b[0m \u001b[39m# dt_emp_dump = loop.run_until.complete(dt_fetch_all(loop,api_key,dt,all_emps, *urls))\u001b[39;00m\n\u001b[0;32m     <a href='vscode-notebook-cell:/c%3A/Users/ShashankRaj/OneDrive%20-%20Exalogic%20Consulting/Documents/Proj%20Mgmt/Jira_Clockwork/final_codes_V2/desktime_async.ipynb#X22sZmlsZQ%3D%3D?line=22'>23</a>\u001b[0m \u001b[39m# _get_running_loop\u001b[39;00m\n\u001b[1;32m---> <a href='vscode-notebook-cell:/c%3A/Users/ShashankRaj/OneDrive%20-%20Exalogic%20Consulting/Documents/Proj%20Mgmt/Jira_Clockwork/final_codes_V2/desktime_async.ipynb#X22sZmlsZQ%3D%3D?line=24'>25</a>\u001b[0m dt_emp_dump \u001b[39m=\u001b[39m loop\u001b[39m.\u001b[39;49mrun_until_complete(dt_fetch_all(loop,api_key,dt,all_emps, \u001b[39m*\u001b[39;49murls))\n",
      "File \u001b[1;32m~\\AppData\\Local\\Programs\\Python\\Python311\\Lib\\asyncio\\base_events.py:629\u001b[0m, in \u001b[0;36mBaseEventLoop.run_until_complete\u001b[1;34m(self, future)\u001b[0m\n\u001b[0;32m    618\u001b[0m \u001b[39m\u001b[39m\u001b[39m\"\"\"Run until the Future is done.\u001b[39;00m\n\u001b[0;32m    619\u001b[0m \n\u001b[0;32m    620\u001b[0m \u001b[39mIf the argument is a coroutine, it is wrapped in a Task.\u001b[39;00m\n\u001b[1;32m   (...)\u001b[0m\n\u001b[0;32m    626\u001b[0m \u001b[39mReturn the Future's result, or raise its exception.\u001b[39;00m\n\u001b[0;32m    627\u001b[0m \u001b[39m\"\"\"\u001b[39;00m\n\u001b[0;32m    628\u001b[0m \u001b[39mself\u001b[39m\u001b[39m.\u001b[39m_check_closed()\n\u001b[1;32m--> 629\u001b[0m \u001b[39mself\u001b[39;49m\u001b[39m.\u001b[39;49m_check_running()\n\u001b[0;32m    631\u001b[0m new_task \u001b[39m=\u001b[39m \u001b[39mnot\u001b[39;00m futures\u001b[39m.\u001b[39misfuture(future)\n\u001b[0;32m    632\u001b[0m future \u001b[39m=\u001b[39m tasks\u001b[39m.\u001b[39mensure_future(future, loop\u001b[39m=\u001b[39m\u001b[39mself\u001b[39m)\n",
      "File \u001b[1;32m~\\AppData\\Local\\Programs\\Python\\Python311\\Lib\\asyncio\\base_events.py:588\u001b[0m, in \u001b[0;36mBaseEventLoop._check_running\u001b[1;34m(self)\u001b[0m\n\u001b[0;32m    586\u001b[0m \u001b[39mdef\u001b[39;00m \u001b[39m_check_running\u001b[39m(\u001b[39mself\u001b[39m):\n\u001b[0;32m    587\u001b[0m     \u001b[39mif\u001b[39;00m \u001b[39mself\u001b[39m\u001b[39m.\u001b[39mis_running():\n\u001b[1;32m--> 588\u001b[0m         \u001b[39mraise\u001b[39;00m \u001b[39mRuntimeError\u001b[39;00m(\u001b[39m'\u001b[39m\u001b[39mThis event loop is already running\u001b[39m\u001b[39m'\u001b[39m)\n\u001b[0;32m    589\u001b[0m     \u001b[39mif\u001b[39;00m events\u001b[39m.\u001b[39m_get_running_loop() \u001b[39mis\u001b[39;00m \u001b[39mnot\u001b[39;00m \u001b[39mNone\u001b[39;00m:\n\u001b[0;32m    590\u001b[0m         \u001b[39mraise\u001b[39;00m \u001b[39mRuntimeError\u001b[39;00m(\n\u001b[0;32m    591\u001b[0m             \u001b[39m'\u001b[39m\u001b[39mCannot run the event loop while another loop is running\u001b[39m\u001b[39m'\u001b[39m)\n",
      "\u001b[1;31mRuntimeError\u001b[0m: This event loop is already running"
     ]
    }
   ],
   "source": [
    "loc = \"C:/Users/ShashankRaj/OneDrive - Exalogic Consulting/Documents/Proj Mgmt/Jira_Clockwork\"\n",
    "urls = []\n",
    "cred_file = loc+\"/Creds/dt_cred.json\"\n",
    "date_format = '%Y-%m-%d'\n",
    "n=1\n",
    "\n",
    "# Get the date range for which this code will execute\n",
    "date_range = []\n",
    "if len(strt_dt) < 2:\n",
    "  curr_dt = str(datetime.today()-timedelta(days=int(0)+1)).split(\" \")[0]\n",
    "  date_range.append(curr_dt)\n",
    "  print(f'Start date is {curr_dt}')\n",
    "else:\n",
    "    for dt in np.arange(n):\n",
    "      curr_dt = str(datetime.strptime(strt_dt, date_format) -\n",
    "                      timedelta(days=int(dt)+1)).split(\" \")[0]\n",
    "      date_range.append(curr_dt)\n",
    "\n",
    "\n",
    "# Read the credentials\n",
    "api_key, all_emps, app_url = read_creds(cred_file, main=1)\n",
    "# dt_emp_dump = loop.run_until.complete(dt_fetch_all(loop,api_key,dt,all_emps, *urls))\n",
    "# _get_running_loop\n",
    "\n",
    "dt_emp_dump = loop.run_until_complete(dt_fetch_all(loop,api_key,dt,all_emps, *urls))\n"
   ]
  }
 ],
 "metadata": {
  "kernelspec": {
   "display_name": "dtime",
   "language": "python",
   "name": "python3"
  },
  "language_info": {
   "codemirror_mode": {
    "name": "ipython",
    "version": 3
   },
   "file_extension": ".py",
   "mimetype": "text/x-python",
   "name": "python",
   "nbconvert_exporter": "python",
   "pygments_lexer": "ipython3",
   "version": "3.11.4"
  }
 },
 "nbformat": 4,
 "nbformat_minor": 2
}
