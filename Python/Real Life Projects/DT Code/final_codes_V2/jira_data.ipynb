{
 "cells": [
  {
   "cell_type": "code",
   "execution_count": 7,
   "metadata": {},
   "outputs": [],
   "source": [
    "import json\n",
    "import pandas as pd\n",
    "from datetime import datetime, timedelta, date"
   ]
  },
  {
   "cell_type": "code",
   "execution_count": 14,
   "metadata": {},
   "outputs": [
    {
     "data": {
      "text/plain": [
       "'2023-10-31'"
      ]
     },
     "execution_count": 14,
     "metadata": {},
     "output_type": "execute_result"
    }
   ],
   "source": [
    "str(datetime.strptime('2023-10-31', \"%Y-%m-%d\").date())"
   ]
  },
  {
   "cell_type": "code",
   "execution_count": 12,
   "metadata": {},
   "outputs": [],
   "source": [
    "# import requests\n",
    "# from requests.auth import HTTPBasicAuth\n",
    "\n",
    "# def try_api():\n",
    "  \n",
    "#     # Your Jira instance URL\n",
    "#     JIRA_URL = 'https://exalogicconsulting.atlassian.net'\n",
    "\n",
    "#     # The API endpoint for issue search\n",
    "#     API_ENDPOINT = '/rest/api/3/search'\n",
    "\n",
    "#     # Your email and API token\n",
    "#     EMAIL = 'shashank.raj@exalogic.co'\n",
    "#     API_TOKEN = 'ATATT3xFfGF0ki1921cMCZooeOY60SYQ1rXo8VtUbzNKHGFyuZza9UV6ftMBuGPqchZD7BHGM82DydJTpTqejJQy1NjX4cxKZVsX_dWxv8YHhNiQCA37DmiHpkIL15Ulg13qmUK6r9PIplp6FI-3qVLvqdlUgVdVJnvJ5P15cSoa_FxIDCo7bis=77934F96'\n",
    "\n",
    "#     # The JQL query\n",
    "#     JQL_QUERY = 'project = \"IN-13\" AND status = \"To Do\"'\n",
    "\n",
    "#     # The headers for the HTTP request\n",
    "#     HEADERS = {\n",
    "#         'Accept': 'application/json',\n",
    "#     }\n",
    "\n",
    "#     # The query parameters for the HTTP request\n",
    "#     PARAMS = {\n",
    "#         'jql': JQL_QUERY,\n",
    "#     }\n",
    "\n",
    "#     # Send a GET request to the Jira API\n",
    "#     response = requests.get(\n",
    "#         url=JIRA_URL + API_ENDPOINT,\n",
    "#         headers=HEADERS,\n",
    "#         params=PARAMS,\n",
    "#         auth=HTTPBasicAuth(EMAIL, API_TOKEN)\n",
    "#     )\n",
    "\n",
    "#     # Print the JSON response from Jira\n",
    "#     print(response.json())\n"
   ]
  },
  {
   "cell_type": "code",
   "execution_count": 13,
   "metadata": {},
   "outputs": [],
   "source": [
    "def load_json_file(file_name):\n",
    "  if not file_name.endswith(\".json\"):\n",
    "    print(\"Only Josn file is expected. Quitting...\")\n",
    "    return\n",
    "  else:\n",
    "    try:\n",
    "      f = open(file_name, encoding = 'utf8')\n",
    "    except Exception:\n",
    "      return Exception\n",
    "    else:\n",
    "      data = json.load(f)\n",
    "      print(\"Loaded Json Data\")\n",
    "      return data"
   ]
  },
  {
   "cell_type": "code",
   "execution_count": 14,
   "metadata": {},
   "outputs": [],
   "source": [
    "def transform_json_data(raw_json, df_act_emp):\n",
    "  dict = {\n",
    "  \"user_names\":[],\n",
    "  \"email_add\":[],\n",
    "  \"jira_ids\":[],\n",
    "  \"issue_key\":[],\n",
    "  \"issue_id\":[],\n",
    "  \"created\":[],\n",
    "  \"started\":[],\n",
    "  \"updated\":[],\n",
    "  \"time_secs\":[]\n",
    "  }\n",
    "\n",
    "  for x in raw_json:\n",
    "    dict['user_names'].append(x[\"author\"][\"displayName\"])\n",
    "    dict['email_add'].append(x[\"author\"][\"emailAddress\"])\n",
    "    dict['jira_ids'].append(x[\"id\"])\n",
    "    dict['issue_key'].append(x[\"issue\"][\"key\"])\n",
    "    dict['issue_id'].append(x[\"issueId\"])\n",
    "    dict['time_secs'].append(x[\"timeSpentSeconds\"])\n",
    "    dict[\"created\"].append(x[\"created\"])\n",
    "    dict[\"updated\"].append(x[\"updated\"])\n",
    "    dict[\"started\"].append(x[\"started\"])\n",
    "  \n",
    "  df_jira = pd.DataFrame(dict)\n",
    "  df_jira[\"created\"] = pd.to_datetime(df_jira[\"created\"])\n",
    "  df_jira[\"started\"] = pd.to_datetime(df_jira[\"started\"])\n",
    "  df_jira[\"updated\"] = pd.to_datetime(df_jira[\"updated\"])\n",
    "\n",
    "  df_jira[\"created\"] = df_jira[\"created\"].dt.date\n",
    "  df_jira[\"started\"] = df_jira[\"started\"].dt.date\n",
    "  df_jira[\"updated\"] = df_jira[\"updated\"].dt.date\n",
    "\n",
    "  df_merged_act_emp = df_act_emp.merge(\n",
    "    df_jira,\n",
    "    how='left',\n",
    "    left_on=\"Email\",\n",
    "    right_on=\"email_add\"\n",
    "  )\n",
    "\n",
    "  df_merged_act_emp[\"date_issue\"] = str(datetime.today()-timedelta(days=int(0)+1)).split(\" \")[0]\n",
    "  # curr_dt = str(datetime.today()-timedelta(days=int(0)+1)).split(\" \")[0]\n",
    "\n",
    "  df_merged_act_emp[\"count\"] = 1\n",
    "\n",
    "  return df_merged_act_emp"
   ]
  },
  {
   "cell_type": "code",
   "execution_count": 15,
   "metadata": {},
   "outputs": [],
   "source": [
    "location = \"C:/Users/ShashankRaj/OneDrive - Exalogic Consulting/Documents/Proj Mgmt/Jira_Clockwork\""
   ]
  },
  {
   "cell_type": "code",
   "execution_count": 16,
   "metadata": {},
   "outputs": [
    {
     "name": "stdout",
     "output_type": "stream",
     "text": [
      "Loaded Json Data\n"
     ]
    }
   ],
   "source": [
    "jira_data = load_json_file(location+\"/Data_Files/my_log.json\")"
   ]
  },
  {
   "cell_type": "code",
   "execution_count": 17,
   "metadata": {},
   "outputs": [],
   "source": [
    "df_act_emp = pd.read_csv(location+\"/Data_Files/Act_Emp.csv\")\n",
    "final_df = transform_json_data(jira_data,df_act_emp)"
   ]
  },
  {
   "cell_type": "code",
   "execution_count": 18,
   "metadata": {},
   "outputs": [],
   "source": [
    "final_df.to_csv(location+\"/Data_Files/Jira_Data.csv\", index=False)"
   ]
  }
 ],
 "metadata": {
  "kernelspec": {
   "display_name": "dtime",
   "language": "python",
   "name": "python3"
  },
  "language_info": {
   "codemirror_mode": {
    "name": "ipython",
    "version": 3
   },
   "file_extension": ".py",
   "mimetype": "text/x-python",
   "name": "python",
   "nbconvert_exporter": "python",
   "pygments_lexer": "ipython3",
   "version": "3.11.4"
  }
 },
 "nbformat": 4,
 "nbformat_minor": 2
}
