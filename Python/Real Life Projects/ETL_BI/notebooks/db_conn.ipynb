{
 "cells": [
  {
   "cell_type": "code",
   "execution_count": 1,
   "metadata": {},
   "outputs": [],
   "source": [
    "import sqlalchemy as sa\n",
    "from sqlalchemy import create_engine\n",
    "from sqlalchemy import text\n",
    "import os\n",
    "\n",
    "from datetime import datetime"
   ]
  },
  {
   "cell_type": "code",
   "execution_count": null,
   "metadata": {},
   "outputs": [],
   "source": [
    "db = 'AnzaBI'\n",
    "db_user = 'db_Admin'\n",
    "db_password = 'password'\n",
    "db_host = '219.91.145.98'\n",
    "db_port = '5432'\n",
    "db_schema = '\"Bowling_Data\"'\n",
    "db_table ='\"fees_billed\"'\n",
    "raw_data_schema = \"Raw_Data\""
   ]
  },
  {
   "cell_type": "code",
   "execution_count": null,
   "metadata": {},
   "outputs": [],
   "source": [
    "## Create a sqlalchemy engine \n",
    "# For using the Logging module, the echo=True needs to be disables and replaced \n",
    "# with the logging module\n",
    "\n",
    "engine = create_engine(f'postgresql://{db_user}:{db_password}@{db_host}:{db_port}/{db}',echo=True,future=True)"
   ]
  },
  {
   "cell_type": "code",
   "execution_count": null,
   "metadata": {},
   "outputs": [],
   "source": [
    "## Print Last 10 rows of a Database\n",
    "\n",
    "with engine.connect() as conn:\n",
    "    sel_stmt = f'SELECT * FROM {db_schema}.{db_table} LIMIT 10 OFFSET (SELECT count(*)FROM {db_schema}.{db_table})-2'\n",
    "    result = conn.execute(text(sel_stmt))\n",
    "    for row in result:\n",
    "        print(row)\n",
    "    conn.close()"
   ]
  },
  {
   "cell_type": "code",
   "execution_count": null,
   "metadata": {},
   "outputs": [],
   "source": [
    "delta = datetime.date(datetime.today()) - row[4]\n",
    "print(f'This table was updates [{delta}] hrs ago')"
   ]
  },
  {
   "cell_type": "code",
   "execution_count": null,
   "metadata": {},
   "outputs": [],
   "source": [
    "# Insert Statement \n",
    "\n",
    "# with engine.connect() as conn:\n",
    "#     result = conn.execute(text(\"CREATE TABLE test2(x int, y int)\"))\n",
    "#     conn.execute(\n",
    "#         text(\"INSERT INTO test2(x,y) VALUES (:x, :y)\"),\n",
    "#         [{\"x\":1,\"y\":2}, {\"x\":6,\"y\":4}]\n",
    "#         )\n"
   ]
  }
 ],
 "metadata": {
  "interpreter": {
   "hash": "ecf5722fdaf1897a315d257d89d94520bfcaa453217d5becf09b39e73618b0de"
  },
  "kernelspec": {
   "display_name": "Python 3.9.7 ('base')",
   "language": "python",
   "name": "python3"
  },
  "language_info": {
   "codemirror_mode": {
    "name": "ipython",
    "version": 3
   },
   "file_extension": ".py",
   "mimetype": "text/x-python",
   "name": "python",
   "nbconvert_exporter": "python",
   "pygments_lexer": "ipython3",
   "version": "3.10.2"
  },
  "orig_nbformat": 4
 },
 "nbformat": 4,
 "nbformat_minor": 2
}
